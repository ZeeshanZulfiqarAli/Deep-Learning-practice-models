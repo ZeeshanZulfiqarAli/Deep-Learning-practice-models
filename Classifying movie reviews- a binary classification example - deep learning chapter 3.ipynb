{
 "cells": [
  {
   "cell_type": "code",
   "execution_count": 2,
   "metadata": {
    "scrolled": false
   },
   "outputs": [
    {
     "name": "stderr",
     "output_type": "stream",
     "text": [
      "C:\\Users\\Admin\\Anaconda3\\lib\\site-packages\\h5py\\__init__.py:36: FutureWarning: Conversion of the second argument of issubdtype from `float` to `np.floating` is deprecated. In future, it will be treated as `np.float64 == np.dtype(float).type`.\n",
      "  from ._conv import register_converters as _register_converters\n",
      "Using TensorFlow backend.\n"
     ]
    }
   ],
   "source": [
    "from keras.datasets import imdb\n",
    "\n",
    "(train_data, train_labels), (test_data, test_labels) = imdb.load_data(num_words=10000)\n",
    "# num_words= 10000 indicates that top 10000 frequently occuring words will be kept. Rare words will be discarded"
   ]
  },
  {
   "cell_type": "code",
   "execution_count": 3,
   "metadata": {
    "scrolled": true
   },
   "outputs": [
    {
     "name": "stdout",
     "output_type": "stream",
     "text": [
      "[1, 14, 22, 16, 43, 530, 973, 1622, 1385, 65, 458, 4468, 66, 3941, 4, 173, 36, 256, 5, 25, 100, 43, 838, 112, 50, 670, 2, 9, 35, 480, 284, 5, 150, 4, 172, 112, 167, 2, 336, 385, 39, 4, 172, 4536, 1111, 17, 546, 38, 13, 447, 4, 192, 50, 16, 6, 147, 2025, 19, 14, 22, 4, 1920, 4613, 469, 4, 22, 71, 87, 12, 16, 43, 530, 38, 76, 15, 13, 1247, 4, 22, 17, 515, 17, 12, 16, 626, 18, 2, 5, 62, 386, 12, 8, 316, 8, 106, 5, 4, 2223, 5244, 16, 480, 66, 3785, 33, 4, 130, 12, 16, 38, 619, 5, 25, 124, 51, 36, 135, 48, 25, 1415, 33, 6, 22, 12, 215, 28, 77, 52, 5, 14, 407, 16, 82, 2, 8, 4, 107, 117, 5952, 15, 256, 4, 2, 7, 3766, 5, 723, 36, 71, 43, 530, 476, 26, 400, 317, 46, 7, 4, 2, 1029, 13, 104, 88, 4, 381, 15, 297, 98, 32, 2071, 56, 26, 141, 6, 194, 7486, 18, 4, 226, 22, 21, 134, 476, 26, 480, 5, 144, 30, 5535, 18, 51, 36, 28, 224, 92, 25, 104, 4, 226, 65, 16, 38, 1334, 88, 12, 16, 283, 5, 16, 4472, 113, 103, 32, 15, 16, 5345, 19, 178, 32]\n",
      "1\n"
     ]
    }
   ],
   "source": [
    "print(train_data[0])   # train_data and train_label are list of reviews where each review is a list of word indices(encoding \n",
    "                       # a sequence of words)\n",
    "print(train_labels[0]) # train_label and test_label are list of 0's and 1's, 0 indicating a negative review and 1 indicating\n",
    "                       # a positive review"
   ]
  },
  {
   "cell_type": "code",
   "execution_count": 4,
   "metadata": {},
   "outputs": [
    {
     "name": "stdout",
     "output_type": "stream",
     "text": [
      "9999\n"
     ]
    }
   ],
   "source": [
    "# Because we restricted ourselves to top 10000 words, no word index will exceed 10000\n",
    "print(max([max(sequence) for sequence in train_data]))"
   ]
  },
  {
   "cell_type": "code",
   "execution_count": 5,
   "metadata": {},
   "outputs": [
    {
     "name": "stdout",
     "output_type": "stream",
     "text": [
      "? this film was just brilliant casting location scenery story direction everyone's really suited the part they played and you could just imagine being there robert ? is an amazing actor and now the same being director ? father came from the same scottish island as myself so i loved the fact there was a real connection with this film the witty remarks throughout the film were great it was just brilliant so much that i bought the film as soon as it was released for ? and would recommend it to everyone to watch and the fly fishing was amazing really cried at the end it was so sad and you know what they say if you cry at a film it must have been good and this definitely was also ? to the two little boy's that played the ? of norman and paul they were just brilliant children are often left out of the ? list i think because the stars that play them all grown up are such a big profile for the whole film but these children are amazing and should be praised for what they have done don't you think the whole story was so lovely because it was true and was someone's life after all that was shared with us all\n"
     ]
    }
   ],
   "source": [
    "#reversing indices back to words\n",
    "word_index = imdb.get_word_index()\n",
    "reverse_word_index = dict([(value, key) for (key, value) in word_index.items()])\n",
    "decoded_review = ' '.join([reverse_word_index.get(i - 3, '?') for i in train_data[0]])\n",
    "print(decoded_review)"
   ]
  },
  {
   "cell_type": "code",
   "execution_count": 6,
   "metadata": {},
   "outputs": [],
   "source": [
    "#encoding the integer sequences into a binary matrix\n",
    "\n",
    "import numpy as np\n",
    "\n",
    "def vectorize_sequences(sequences, dimension=10000):\n",
    "    results = np.zeros((len(sequences), dimension))\n",
    "    for i, sequence in enumerate(sequences):\n",
    "        results[i, sequence] = 1.\n",
    "    return results\n",
    "\n",
    "x_train = vectorize_sequences(train_data)\n",
    "x_test = vectorize_sequences(test_data)"
   ]
  },
  {
   "cell_type": "code",
   "execution_count": 7,
   "metadata": {
    "scrolled": true
   },
   "outputs": [
    {
     "name": "stdout",
     "output_type": "stream",
     "text": [
      "(25000,)\n",
      "(25000, 10000)\n"
     ]
    }
   ],
   "source": [
    "print(train_data.shape)\n",
    "print(x_train.shape)"
   ]
  },
  {
   "cell_type": "code",
   "execution_count": 8,
   "metadata": {},
   "outputs": [],
   "source": [
    "y_train = np.asarray(train_labels).astype('float32')\n",
    "y_test = np.asarray(test_labels).astype('float32')"
   ]
  },
  {
   "cell_type": "code",
   "execution_count": 9,
   "metadata": {},
   "outputs": [],
   "source": [
    "from keras import models\n",
    "from keras import layers\n",
    "\n",
    "model = models.Sequential()\n",
    "model.add(layers.Dense(16, activation='relu', input_shape=(10000,)))\n",
    "model.add(layers.Dense(16, activation='relu'))\n",
    "model.add(layers.Dense(1, activation='sigmoid'))"
   ]
  },
  {
   "cell_type": "code",
   "execution_count": 10,
   "metadata": {},
   "outputs": [],
   "source": [
    "model.compile(optimizer='rmsprop', loss='binary_crossentropy', metrics=['accuracy'])"
   ]
  },
  {
   "cell_type": "code",
   "execution_count": 11,
   "metadata": {},
   "outputs": [],
   "source": [
    "# Setting aside a validation set\n",
    "x_val = x_train[:10000]\n",
    "partial_x_train = x_train[10000:]"
   ]
  },
  {
   "cell_type": "code",
   "execution_count": 12,
   "metadata": {},
   "outputs": [],
   "source": [
    "y_val = y_train[:10000]\n",
    "partial_y_train = y_train[10000:]"
   ]
  },
  {
   "cell_type": "code",
   "execution_count": 13,
   "metadata": {},
   "outputs": [
    {
     "name": "stdout",
     "output_type": "stream",
     "text": [
      "Train on 15000 samples, validate on 10000 samples\n",
      "Epoch 1/20\n",
      "15000/15000 [==============================] - 5s 364us/step - loss: 0.4977 - acc: 0.7953 - val_loss: 0.3717 - val_acc: 0.8723\n",
      "Epoch 2/20\n",
      "15000/15000 [==============================] - 4s 257us/step - loss: 0.2959 - acc: 0.9043 - val_loss: 0.2990 - val_acc: 0.8908\n",
      "Epoch 3/20\n",
      "15000/15000 [==============================] - 3s 216us/step - loss: 0.2160 - acc: 0.9284 - val_loss: 0.3084 - val_acc: 0.8717\n",
      "Epoch 4/20\n",
      "15000/15000 [==============================] - 3s 217us/step - loss: 0.1742 - acc: 0.9433 - val_loss: 0.2830 - val_acc: 0.8842\n",
      "Epoch 5/20\n",
      "15000/15000 [==============================] - 3s 205us/step - loss: 0.1415 - acc: 0.9541 - val_loss: 0.2863 - val_acc: 0.8851\n",
      "Epoch 6/20\n",
      "15000/15000 [==============================] - 3s 202us/step - loss: 0.1143 - acc: 0.9652 - val_loss: 0.3090 - val_acc: 0.8809\n",
      "Epoch 7/20\n",
      "15000/15000 [==============================] - 3s 202us/step - loss: 0.0970 - acc: 0.9707 - val_loss: 0.3146 - val_acc: 0.8842\n",
      "Epoch 8/20\n",
      "15000/15000 [==============================] - 3s 227us/step - loss: 0.0803 - acc: 0.9765 - val_loss: 0.3870 - val_acc: 0.8659\n",
      "Epoch 9/20\n",
      "15000/15000 [==============================] - 3s 226us/step - loss: 0.0658 - acc: 0.9819 - val_loss: 0.3650 - val_acc: 0.8776\n",
      "Epoch 10/20\n",
      "15000/15000 [==============================] - 3s 217us/step - loss: 0.0554 - acc: 0.9854 - val_loss: 0.3862 - val_acc: 0.8790\n",
      "Epoch 11/20\n",
      "15000/15000 [==============================] - 3s 221us/step - loss: 0.0453 - acc: 0.9887 - val_loss: 0.4180 - val_acc: 0.8762\n",
      "Epoch 12/20\n",
      "15000/15000 [==============================] - 3s 199us/step - loss: 0.0386 - acc: 0.9913 - val_loss: 0.4522 - val_acc: 0.8694\n",
      "Epoch 13/20\n",
      "15000/15000 [==============================] - 3s 229us/step - loss: 0.0299 - acc: 0.9936 - val_loss: 0.4714 - val_acc: 0.8732\n",
      "Epoch 14/20\n",
      "15000/15000 [==============================] - 4s 236us/step - loss: 0.0244 - acc: 0.9949 - val_loss: 0.5025 - val_acc: 0.8717\n",
      "Epoch 15/20\n",
      "15000/15000 [==============================] - 3s 210us/step - loss: 0.0186 - acc: 0.9973 - val_loss: 0.5320 - val_acc: 0.8695\n",
      "Epoch 16/20\n",
      "15000/15000 [==============================] - 3s 201us/step - loss: 0.0158 - acc: 0.9981 - val_loss: 0.5716 - val_acc: 0.8687\n",
      "Epoch 17/20\n",
      "15000/15000 [==============================] - 3s 196us/step - loss: 0.0136 - acc: 0.9983 - val_loss: 0.6009 - val_acc: 0.8675\n",
      "Epoch 18/20\n",
      "15000/15000 [==============================] - 3s 231us/step - loss: 0.0099 - acc: 0.9985 - val_loss: 0.6324 - val_acc: 0.8677\n",
      "Epoch 19/20\n",
      "15000/15000 [==============================] - 3s 214us/step - loss: 0.0083 - acc: 0.9989 - val_loss: 0.6676 - val_acc: 0.8662\n",
      "Epoch 20/20\n",
      "15000/15000 [==============================] - 3s 207us/step - loss: 0.0095 - acc: 0.9979 - val_loss: 0.6945 - val_acc: 0.8652\n"
     ]
    }
   ],
   "source": [
    "history = model.fit(partial_x_train, partial_y_train, epochs=20, batch_size=512, validation_data=(x_val, y_val))"
   ]
  },
  {
   "cell_type": "code",
   "execution_count": 14,
   "metadata": {},
   "outputs": [
    {
     "data": {
      "text/plain": [
       "dict_keys(['val_loss', 'val_acc', 'loss', 'acc'])"
      ]
     },
     "execution_count": 14,
     "metadata": {},
     "output_type": "execute_result"
    }
   ],
   "source": [
    "history_dict = history.history # call to model.fit() returns a History object.\n",
    "history_dict.keys()"
   ]
  },
  {
   "cell_type": "code",
   "execution_count": 18,
   "metadata": {},
   "outputs": [
    {
     "data": {
      "image/png": "[encoded data removed]",
      "text/plain": [
       "<Figure size 432x288 with 1 Axes>"
      ]
     },
     "metadata": {},
     "output_type": "display_data"
    }
   ],
   "source": [
    "# Plotting the training and validation loss\n",
    "import matplotlib.pyplot as plt\n",
    "\n",
    "history_dict = history.history\n",
    "loss_values = history_dict['loss']\n",
    "val_loss_values = history_dict['val_loss']\n",
    "epochs = range(1, len(history_dict['acc']) + 1)\n",
    "plt.plot(epochs, loss_values, 'bo', label='Training loss')\n",
    "plt.plot(epochs, val_loss_values, 'b', label='Validation loss')\n",
    "plt.title('Training and validation loss')\n",
    "plt.xlabel('Epochs')\n",
    "plt.ylabel('Loss')\n",
    "plt.legend()\n",
    "plt.show()"
   ]
  },
  {
   "cell_type": "code",
   "execution_count": 19,
   "metadata": {},
   "outputs": [
    {
     "data": {
      "image/png": "[encoded data removed]",
      "text/plain": [
       "<Figure size 432x288 with 1 Axes>"
      ]
     },
     "metadata": {},
     "output_type": "display_data"
    }
   ],
   "source": [
    "# Plotting the training and validation accuracy\n",
    "\n",
    "plt.clf()\n",
    "acc_values = history_dict['acc']\n",
    "val_acc_values = history_dict['val_acc']\n",
    "plt.plot(epochs, history_dict['acc'], 'bo', label='Training acc')\n",
    "plt.plot(epochs, history_dict['val_acc'], 'b', label='Validation acc')\n",
    "plt.title('Training and validation accuracy')\n",
    "plt.xlabel('Epochs')\n",
    "plt.ylabel('Loss')\n",
    "plt.legend()\n",
    "plt.show()"
   ]
  },
  {
   "cell_type": "code",
   "execution_count": 17,
   "metadata": {},
   "outputs": [
    {
     "name": "stdout",
     "output_type": "stream",
     "text": [
      "Epoch 1/4\n",
      "25000/25000 [==============================] - 4s 153us/step - loss: 0.4750 - acc: 0.8212\n",
      "Epoch 2/4\n",
      "25000/25000 [==============================] - 3s 137us/step - loss: 0.2654 - acc: 0.9097\n",
      "Epoch 3/4\n",
      "25000/25000 [==============================] - 3s 133us/step - loss: 0.1983 - acc: 0.9301\n",
      "Epoch 4/4\n",
      "25000/25000 [==============================] - 3s 131us/step - loss: 0.1676 - acc: 0.9406\n",
      "25000/25000 [==============================] - 4s 160us/step\n"
     ]
    }
   ],
   "source": [
    "# Retraining model from scratch with 4 epoch as we can see in above graphs that the validation accuracy poeaks at 4th epoch\n",
    "model = models.Sequential()\n",
    "model.add(layers.Dense(16, activation='relu', input_shape=(10000,)))\n",
    "model.add(layers.Dense(16, activation='relu'))\n",
    "model.add(layers.Dense(1, activation='sigmoid'))\n",
    "model.compile(optimizer='rmsprop',\n",
    "loss='binary_crossentropy',\n",
    "metrics=['accuracy'])\n",
    "model.fit(x_train, y_train, epochs=4, batch_size=512)\n",
    "results = model.evaluate(x_test, y_test)"
   ]
  },
  {
   "cell_type": "code",
   "execution_count": 21,
   "metadata": {},
   "outputs": [
    {
     "data": {
      "text/plain": [
       "[0.3234772595882416, 0.87288]"
      ]
     },
     "execution_count": 21,
     "metadata": {},
     "output_type": "execute_result"
    }
   ],
   "source": [
    "results"
   ]
  },
  {
   "cell_type": "code",
   "execution_count": 26,
   "metadata": {},
   "outputs": [
    {
     "name": "stdout",
     "output_type": "stream",
     "text": [
      "Train on 15000 samples, validate on 10000 samples\n",
      "Epoch 1/4\n",
      "15000/15000 [==============================] - 4s 236us/step - loss: 0.5014 - acc: 0.7891 - val_loss: 0.3900 - val_acc: 0.8668\n",
      "Epoch 2/4\n",
      "15000/15000 [==============================] - 3s 219us/step - loss: 0.3190 - acc: 0.9025 - val_loss: 0.3325 - val_acc: 0.8732\n",
      "Epoch 3/4\n",
      "15000/15000 [==============================] - 3s 213us/step - loss: 0.2451 - acc: 0.9260 - val_loss: 0.3013 - val_acc: 0.8815\n",
      "Epoch 4/4\n",
      "15000/15000 [==============================] - 3s 210us/step - loss: 0.2019 - acc: 0.9378 - val_loss: 0.2779 - val_acc: 0.8904\n",
      "25000/25000 [==============================] - 4s 145us/step\n",
      "[0.29628369585037234, 0.88236]\n"
     ]
    }
   ],
   "source": [
    "# different apporaches for same example\n",
    "# 1\n",
    "model= models.Sequential()\n",
    "model.add(layers.Dense(16, activation='relu', input_shape=(10000,)))\n",
    "model.add(layers.Dense(1,activation='sigmoid'))\n",
    "model.compile(optimizer='rmsprop', loss='binary_crossentropy', metrics=['accuracy'])\n",
    "model.fit(partial_x_train, partial_y_train, epochs=4, batch_size=512,validation_data=(x_val, y_val))\n",
    "results= model.evaluate(x_test,y_test)\n",
    "print(results)"
   ]
  },
  {
   "cell_type": "code",
   "execution_count": 24,
   "metadata": {},
   "outputs": [
    {
     "name": "stdout",
     "output_type": "stream",
     "text": [
      "Train on 15000 samples, validate on 10000 samples\n",
      "Epoch 1/4\n",
      "15000/15000 [==============================] - 4s 250us/step - loss: 0.5398 - acc: 0.7870 - val_loss: 0.4045 - val_acc: 0.8686\n",
      "Epoch 2/4\n",
      "15000/15000 [==============================] - 3s 220us/step - loss: 0.3168 - acc: 0.9007 - val_loss: 0.3118 - val_acc: 0.8840\n",
      "Epoch 3/4\n",
      "15000/15000 [==============================] - 3s 209us/step - loss: 0.2268 - acc: 0.9258 - val_loss: 0.2856 - val_acc: 0.8881\n",
      "Epoch 4/4\n",
      "15000/15000 [==============================] - 3s 205us/step - loss: 0.1744 - acc: 0.9406 - val_loss: 0.2727 - val_acc: 0.8894\n",
      "25000/25000 [==============================] - 4s 144us/step\n",
      "[0.2930776562690735, 0.88228]\n"
     ]
    }
   ],
   "source": [
    "# 2\n",
    "model= models.Sequential()\n",
    "model.add(layers.Dense(16, activation='relu', input_shape=(10000,)))\n",
    "model.add(layers.Dense(16, activation='relu', input_shape=(10000,)))\n",
    "model.add(layers.Dense(16, activation='relu', input_shape=(10000,)))\n",
    "model.add(layers.Dense(1,activation='sigmoid'))\n",
    "model.compile(optimizer='rmsprop', loss='binary_crossentropy', metrics=['accuracy'])\n",
    "model.fit(partial_x_train, partial_y_train, epochs=4, batch_size=512, validation_data=(x_val,y_val))\n",
    "results= model.evaluate(x_test,y_test)\n",
    "print(results)"
   ]
  },
  {
   "cell_type": "code",
   "execution_count": 33,
   "metadata": {},
   "outputs": [
    {
     "name": "stdout",
     "output_type": "stream",
     "text": [
      "Train on 15000 samples, validate on 10000 samples\n",
      "Epoch 1/4\n",
      "15000/15000 [==============================] - 4s 288us/step - loss: 0.5034 - acc: 0.7582 - val_loss: 0.3678 - val_acc: 0.8541\n",
      "Epoch 2/4\n",
      "15000/15000 [==============================] - 4s 261us/step - loss: 0.2695 - acc: 0.8977 - val_loss: 0.2763 - val_acc: 0.8929\n",
      "Epoch 3/4\n",
      "15000/15000 [==============================] - 4s 258us/step - loss: 0.1866 - acc: 0.9313 - val_loss: 0.3483 - val_acc: 0.8664\n",
      "Epoch 4/4\n",
      "15000/15000 [==============================] - 4s 268us/step - loss: 0.1333 - acc: 0.9501 - val_loss: 0.3901 - val_acc: 0.8615\n",
      "25000/25000 [==============================] - 5s 199us/step\n",
      "[0.4331735961294174, 0.8458]\n"
     ]
    }
   ],
   "source": [
    "# 3\n",
    "model= models.Sequential()\n",
    "model.add(layers.Dense(64, activation='relu', input_shape=(10000,)))\n",
    "model.add(layers.Dense(64, activation='relu', input_shape=(10000,)))\n",
    "model.add(layers.Dense(64, activation='relu', input_shape=(10000,)))\n",
    "model.add(layers.Dense(1,activation='sigmoid'))\n",
    "model.compile(optimizer='rmsprop', loss='binary_crossentropy', metrics=['accuracy'])\n",
    "model.fit(partial_x_train, partial_y_train, epochs=4, batch_size=512, validation_data=(x_val,y_val))\n",
    "results= model.evaluate(x_test,y_test)\n",
    "print(results)"
   ]
  },
  {
   "cell_type": "code",
   "execution_count": 34,
   "metadata": {},
   "outputs": [
    {
     "name": "stdout",
     "output_type": "stream",
     "text": [
      "Train on 15000 samples, validate on 10000 samples\n",
      "Epoch 1/4\n",
      "15000/15000 [==============================] - 5s 353us/step - loss: 0.4601 - acc: 0.7901 - val_loss: 0.3949 - val_acc: 0.8312\n",
      "Epoch 2/4\n",
      "15000/15000 [==============================] - 4s 285us/step - loss: 0.2603 - acc: 0.9077 - val_loss: 0.3052 - val_acc: 0.8791\n",
      "Epoch 3/4\n",
      "15000/15000 [==============================] - 4s 289us/step - loss: 0.1981 - acc: 0.9315 - val_loss: 0.2749 - val_acc: 0.8918\n",
      "Epoch 4/4\n",
      "15000/15000 [==============================] - 4s 262us/step - loss: 0.1597 - acc: 0.9467 - val_loss: 0.2822 - val_acc: 0.8868\n",
      "25000/25000 [==============================] - 5s 198us/step\n",
      "[0.307127505235672, 0.87612]\n"
     ]
    }
   ],
   "source": [
    "# 4\n",
    "model= models.Sequential()\n",
    "model.add(layers.Dense(64, activation='relu', input_shape=(10000,)))\n",
    "model.add(layers.Dense(1,activation='sigmoid'))\n",
    "model.compile(optimizer='rmsprop', loss='binary_crossentropy', metrics=['accuracy'])\n",
    "model.fit(partial_x_train, partial_y_train, epochs=4, batch_size=512, validation_data=(x_val,y_val))\n",
    "results= model.evaluate(x_test,y_test)\n",
    "print(results)"
   ]
  },
  {
   "cell_type": "code",
   "execution_count": 35,
   "metadata": {},
   "outputs": [
    {
     "name": "stdout",
     "output_type": "stream",
     "text": [
      "Train on 15000 samples, validate on 10000 samples\n",
      "Epoch 1/4\n",
      "15000/15000 [==============================] - 5s 309us/step - loss: 0.1615 - acc: 0.7657 - val_loss: 0.1055 - val_acc: 0.8608\n",
      "Epoch 2/4\n",
      "15000/15000 [==============================] - 4s 257us/step - loss: 0.0797 - acc: 0.8979 - val_loss: 0.0866 - val_acc: 0.8828\n",
      "Epoch 3/4\n",
      "15000/15000 [==============================] - 4s 249us/step - loss: 0.0560 - acc: 0.9271 - val_loss: 0.0829 - val_acc: 0.8891\n",
      "Epoch 4/4\n",
      "15000/15000 [==============================] - 4s 259us/step - loss: 0.0410 - acc: 0.9493 - val_loss: 0.0931 - val_acc: 0.8768\n",
      "25000/25000 [==============================] - 5s 194us/step\n",
      "[0.09854474658906459, 0.86944]\n"
     ]
    }
   ],
   "source": [
    "# 5\n",
    "model= models.Sequential()\n",
    "model.add(layers.Dense(64, activation='relu', input_shape=(10000,)))\n",
    "model.add(layers.Dense(64, activation='relu', input_shape=(10000,)))\n",
    "model.add(layers.Dense(64, activation='relu', input_shape=(10000,)))\n",
    "model.add(layers.Dense(1,activation='sigmoid'))\n",
    "model.compile(optimizer='rmsprop', loss='mse', metrics=['accuracy'])\n",
    "model.fit(partial_x_train, partial_y_train, epochs=4, batch_size=512, validation_data=(x_val,y_val))\n",
    "results= model.evaluate(x_test,y_test)\n",
    "print(results)"
   ]
  },
  {
   "cell_type": "code",
   "execution_count": 36,
   "metadata": {},
   "outputs": [
    {
     "name": "stdout",
     "output_type": "stream",
     "text": [
      "Train on 15000 samples, validate on 10000 samples\n",
      "Epoch 1/4\n",
      "15000/15000 [==============================] - 4s 264us/step - loss: 0.1717 - acc: 0.7768 - val_loss: 0.1178 - val_acc: 0.8769\n",
      "Epoch 2/4\n",
      "15000/15000 [==============================] - 3s 219us/step - loss: 0.0912 - acc: 0.9055 - val_loss: 0.1018 - val_acc: 0.8729\n",
      "Epoch 3/4\n",
      "15000/15000 [==============================] - 3s 206us/step - loss: 0.0668 - acc: 0.9278 - val_loss: 0.0900 - val_acc: 0.8822\n",
      "Epoch 4/4\n",
      "15000/15000 [==============================] - 3s 207us/step - loss: 0.0497 - acc: 0.9485 - val_loss: 0.0866 - val_acc: 0.8843\n",
      "25000/25000 [==============================] - 4s 151us/step\n",
      "[0.09199462685108185, 0.8762]\n"
     ]
    }
   ],
   "source": [
    "# 6\n",
    "model= models.Sequential()\n",
    "model.add(layers.Dense(16, activation='relu', input_shape=(10000,)))\n",
    "model.add(layers.Dense(16, activation='relu', input_shape=(10000,)))\n",
    "model.add(layers.Dense(1,activation='sigmoid'))\n",
    "model.compile(optimizer='rmsprop', loss='mse', metrics=['accuracy'])\n",
    "model.fit(partial_x_train, partial_y_train, epochs=4, batch_size=512, validation_data=(x_val,y_val))\n",
    "results= model.evaluate(x_test,y_test)\n",
    "print(results)"
   ]
  },
  {
   "cell_type": "code",
   "execution_count": 37,
   "metadata": {},
   "outputs": [
    {
     "name": "stdout",
     "output_type": "stream",
     "text": [
      "Train on 15000 samples, validate on 10000 samples\n",
      "Epoch 1/4\n",
      "15000/15000 [==============================] - 4s 279us/step - loss: 0.1570 - acc: 0.8005 - val_loss: 0.1082 - val_acc: 0.8819\n",
      "Epoch 2/4\n",
      "15000/15000 [==============================] - 3s 200us/step - loss: 0.0811 - acc: 0.9132 - val_loss: 0.0863 - val_acc: 0.8896\n",
      "Epoch 3/4\n",
      "15000/15000 [==============================] - 3s 204us/step - loss: 0.0558 - acc: 0.9358 - val_loss: 0.0843 - val_acc: 0.8876\n",
      "Epoch 4/4\n",
      "15000/15000 [==============================] - 3s 225us/step - loss: 0.0405 - acc: 0.9543 - val_loss: 0.0949 - val_acc: 0.8715\n",
      "25000/25000 [==============================] - 4s 155us/step\n",
      "[0.1002893939602375, 0.86272]\n"
     ]
    }
   ],
   "source": [
    "# 7\n",
    "model= models.Sequential()\n",
    "model.add(layers.Dense(16, activation='tanh', input_shape=(10000,)))\n",
    "model.add(layers.Dense(16, activation='tanh', input_shape=(10000,)))\n",
    "model.add(layers.Dense(1,activation='sigmoid'))\n",
    "model.compile(optimizer='rmsprop', loss='mse', metrics=['accuracy'])\n",
    "model.fit(partial_x_train, partial_y_train, epochs=4, batch_size=512, validation_data=(x_val,y_val))\n",
    "results= model.evaluate(x_test,y_test)\n",
    "print(results)"
   ]
  }
 ],
 "metadata": {
  "kernelspec": {
   "display_name": "Python 3",
   "language": "python",
   "name": "python3"
  },
  "language_info": {
   "codemirror_mode": {
    "name": "ipython",
    "version": 3
   },
   "file_extension": ".py",
   "mimetype": "text/x-python",
   "name": "python",
   "nbconvert_exporter": "python",
   "pygments_lexer": "ipython3",
   "version": "3.6.5"
  }
 },
 "nbformat": 4,
 "nbformat_minor": 2
}
